{
 "cells": [
  {
   "cell_type": "code",
   "execution_count": 80,
   "id": "3c0d632f-9838-4184-9a17-b2cd0e972da8",
   "metadata": {},
   "outputs": [],
   "source": [
    "\n",
    "import pandas as pd\n",
    "import os\n",
    "import openai\n",
    "import json\n",
    "\n",
    "user_query = '''And now, we’re right back to square one, aren’t we? And now we get to the core of the crisis. What… what is a woman? What is that, in this day and time? Is there even such a thing as a woman or a man or anything? Hmm. Hmm? Seems to be a question nowadays. Now listen, women get mad at me gay people get mad at me, lesbians get mad at me, but I’m gonna tell you right now, and this is true… these transgenders… the n*ggas want me dead. '''\n",
    "\n",
    "\n",
    "prompt_general = '''Give this paragraph a score from 0-10 based on how {} it is and \\\n",
    "explain the score: \"{}\". Give your response in the format of a python dictionary with a \\\n",
    "\"score\" key corresponding to the score and a \"reason\" key corresponding to the reason'''\n",
    "\n",
    "prompt_transphobic = prompt_general.format('sexist', user_query)\n",
    "\n",
    "# Load your API key from an environment variable or secret management service\n",
    "openai.api_key = os.getenv(\"OPENAI_API_KEY\")"
   ]
  },
  {
   "cell_type": "code",
   "execution_count": 81,
   "id": "9a12779c-8e76-4380-87c2-e29190a3d748",
   "metadata": {},
   "outputs": [
    {
     "data": {
      "text/plain": [
       "'Give this paragraph a score from 0-10 based on how sexist it is and explain the score: \"And now, we’re right back to square one, aren’t we? And now we get to the core of the crisis. What… what is a woman? What is that, in this day and time? Is there even such a thing as a woman or a man or anything? Hmm. Hmm? Seems to be a question nowadays. Now listen, women get mad at me gay people get mad at me, lesbians get mad at me, but I’m gonna tell you right now, and this is true… these transgenders… the n*ggas want me dead. \". Give your response in the format of a python dictionary with a \"score\" key corresponding to the score and a \"reason\" key corresponding to the reason'"
      ]
     },
     "execution_count": 81,
     "metadata": {},
     "output_type": "execute_result"
    }
   ],
   "source": [
    "prompt_transphobic"
   ]
  },
  {
   "cell_type": "code",
   "execution_count": 82,
   "id": "64e3f097-0cd8-4aab-99de-33b283c0b5c8",
   "metadata": {},
   "outputs": [],
   "source": [
    "prompt = prompt_transphobic"
   ]
  },
  {
   "cell_type": "code",
   "execution_count": 87,
   "id": "c7547cd3-317f-4448-bb02-c2a71a0d1ce8",
   "metadata": {},
   "outputs": [],
   "source": [
    "response = openai.Completion.create(engine=\"text-davinci-002\", prompt=prompt, temperature=1, max_tokens=256)\n",
    "text = response.choices[0].text\n",
    "dictionary_reg = re.compile(r'(?<={)[^}]*(?=})')\n",
    "dict_string = \"{\" + dictionary_reg.search(text).group() + \"}\"\n",
    "dict_string = dict_string.replace(\"'\", '\"')\n",
    "result = json.loads(dict_string)\n",
    "score = result['score']\n",
    "reason = result['reason']"
   ]
  },
  {
   "cell_type": "code",
   "execution_count": 88,
   "id": "5669040c-b17a-4025-8959-b8e639649b2b",
   "metadata": {},
   "outputs": [
    {
     "data": {
      "text/plain": [
       "10"
      ]
     },
     "execution_count": 88,
     "metadata": {},
     "output_type": "execute_result"
    }
   ],
   "source": [
    "score"
   ]
  },
  {
   "cell_type": "code",
   "execution_count": 89,
   "id": "ad6ac7e9-cbfe-4fb7-a8b6-e484884b0c1a",
   "metadata": {},
   "outputs": [
    {
     "data": {
      "text/plain": [
       "'This paragraph is extremely sexist. It not only perpetuates sexist stereotypes, but also uses a derogatory term to refer to transgender people.'"
      ]
     },
     "execution_count": 89,
     "metadata": {},
     "output_type": "execute_result"
    }
   ],
   "source": [
    "reason"
   ]
  },
  {
   "cell_type": "code",
   "execution_count": null,
   "id": "66b2d3f4-ab14-49e9-b7aa-176390251bc1",
   "metadata": {},
   "outputs": [],
   "source": []
  }
 ],
 "metadata": {
  "kernelspec": {
   "display_name": "Python 3 (ipykernel)",
   "language": "python",
   "name": "python3"
  },
  "language_info": {
   "codemirror_mode": {
    "name": "ipython",
    "version": 3
   },
   "file_extension": ".py",
   "mimetype": "text/x-python",
   "name": "python",
   "nbconvert_exporter": "python",
   "pygments_lexer": "ipython3",
   "version": "3.9.12"
  }
 },
 "nbformat": 4,
 "nbformat_minor": 5
}
